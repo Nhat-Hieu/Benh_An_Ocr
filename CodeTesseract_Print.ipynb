{
 "cells": [
  {
   "cell_type": "code",
   "execution_count": 1,
   "id": "950a06af",
   "metadata": {},
   "outputs": [],
   "source": [
    "import pytesseract\n",
    "from PIL import Image"
   ]
  },
  {
   "cell_type": "code",
   "execution_count": 2,
   "id": "b19d9a30",
   "metadata": {},
   "outputs": [],
   "source": [
    "final_image_path = \"output/image_with_border.jpg\""
   ]
  },
  {
   "cell_type": "code",
   "execution_count": 3,
   "id": "42b35a28",
   "metadata": {},
   "outputs": [],
   "source": [
    "img = Image.open(final_image_path)"
   ]
  },
  {
   "cell_type": "code",
   "execution_count": 4,
   "id": "3a25523b",
   "metadata": {},
   "outputs": [],
   "source": [
    "img.show()"
   ]
  },
  {
   "cell_type": "code",
   "execution_count": 5,
   "id": "0bb2bb29",
   "metadata": {},
   "outputs": [],
   "source": [
    "ocr_result = pytesseract.image_to_string(img, lang='vie')"
   ]
  },
  {
   "cell_type": "code",
   "execution_count": 6,
   "id": "1769322f",
   "metadata": {},
   "outputs": [
    {
     "name": "stdout",
     "output_type": "stream",
     "text": [
      "Nội dung đã nhận diện từ ảnh:\n",
      "Bận tối mặt tối mảy mà chẳng đi tới đâu là do đầu?\n",
      "\n",
      "Trong môi trường làm viec hiện ngy cung có thể làm xong tắsk\n",
      "\n",
      "những không phúc cùng lạm đúng - nhành - và bạn cách tối dụ\n",
      "\n",
      "1l cần làm nE êu, tầng cá ôm Phiêu việc\n",
      "\n",
      "Nhiệt, PgƯỜi nh tưởng t\n",
      "\n",
      "là sẽ tiếp xa Nhỏíng tÈ.íc te, ng.fÓ được Hao có tộc và thân: tiến\n",
      "thưởng cả 7 điểm caUng\n",
      "\n",
      "$ Hdoặt thànE công việc đứng yêu Cơa nay tự lần đại\n",
      "$ Nhanh nhưng không bố sốt † ốu tiết\n",
      "\n",
      "«cuốn lim cách th qọa và cát tiên quy trình để tăng niệu quả\n",
      "\n",
      "te tiếp xa Fớt trong bát kỷ ngàh nao, tín ng tEaƒ tự tát triển\n",
      "\n",
      "năng lực tF.fðng đ taea\n",
      "\n",
      "1 Đăng - đáp Ứng đạy đã yêu cát và tiệt chuẩn cơ bản\n",
      "\n",
      "2 Nhàn - giản trời g an thuc hiện ma vận ;1ƒ chat lðng\n",
      "\n",
      "3 Tận ái cất te cách làm để fịct êm *.fc Lực, tàng hiệu, suất\n",
      "\n",
      "4 Vũ rộng - xử lý khỏi Lưng công việc Jn Fón, đa đáng họa\n",
      "\n",
      "› Chữn ưọc- điều pho và định hướng công việc ở tâm cao hơn\n",
      "\n",
      "3y hoay, hày thử nhìn vao nhữg giát pháp có tEe áp;\n",
      "\n",
      "Tay v miấi\n",
      "\n",
      "ty sự thay đổi thất sự “hà mì đã và đang đo Gun:\n",
      "\n",
      "dụng ngày để\n",
      "sáu đây\n",
      "\n"
     ]
    }
   ],
   "source": [
    "print('Nội dung đã nhận diện từ ảnh:')\n",
    "print (ocr_result)"
   ]
  }
 ],
 "metadata": {
  "kernelspec": {
   "display_name": "Intern_env",
   "language": "python",
   "name": "python3"
  },
  "language_info": {
   "codemirror_mode": {
    "name": "ipython",
    "version": 3
   },
   "file_extension": ".py",
   "mimetype": "text/x-python",
   "name": "python",
   "nbconvert_exporter": "python",
   "pygments_lexer": "ipython3",
   "version": "3.10.18"
  }
 },
 "nbformat": 4,
 "nbformat_minor": 5
}
